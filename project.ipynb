{
 "cells": [
  {
   "cell_type": "markdown",
   "metadata": {},
   "source": [
    "# SVM w praktyce"
   ]
  },
  {
   "cell_type": "code",
   "execution_count": 29,
   "metadata": {},
   "outputs": [
    {
     "ename": "NameError",
     "evalue": "name 'C' is not defined",
     "output_type": "error",
     "traceback": [
      "\u001b[0;31m---------------------------------------------------------------------------\u001b[0m",
      "\u001b[0;31mNameError\u001b[0m                                 Traceback (most recent call last)",
      "\u001b[0;32m<ipython-input-29-f6b14d52bf68>\u001b[0m in \u001b[0;36m<module>\u001b[0;34m\u001b[0m\n\u001b[1;32m     38\u001b[0m \u001b[0my_pred\u001b[0m \u001b[0;34m=\u001b[0m \u001b[0mclf\u001b[0m\u001b[0;34m.\u001b[0m\u001b[0mpredict\u001b[0m\u001b[0;34m(\u001b[0m\u001b[0mx_test\u001b[0m\u001b[0;34m)\u001b[0m\u001b[0;34m\u001b[0m\u001b[0;34m\u001b[0m\u001b[0m\n\u001b[1;32m     39\u001b[0m \u001b[0mscore\u001b[0m \u001b[0;34m=\u001b[0m \u001b[0maccuracy_score\u001b[0m\u001b[0;34m(\u001b[0m\u001b[0my_test\u001b[0m\u001b[0;34m,\u001b[0m \u001b[0my_pred\u001b[0m\u001b[0;34m)\u001b[0m\u001b[0;34m\u001b[0m\u001b[0;34m\u001b[0m\u001b[0m\n\u001b[0;32m---> 40\u001b[0;31m \u001b[0mprint\u001b[0m\u001b[0;34m(\u001b[0m\u001b[0;34m'kernel=linear, C=%f, score=%f'\u001b[0m \u001b[0;34m%\u001b[0m\u001b[0;34m(\u001b[0m\u001b[0mC\u001b[0m\u001b[0;34m,\u001b[0m \u001b[0mscore\u001b[0m\u001b[0;34m)\u001b[0m\u001b[0;34m)\u001b[0m\u001b[0;34m\u001b[0m\u001b[0;34m\u001b[0m\u001b[0m\n\u001b[0m\u001b[1;32m     41\u001b[0m \u001b[0mscore\u001b[0m\u001b[0;34m\u001b[0m\u001b[0;34m\u001b[0m\u001b[0m\n\u001b[1;32m     42\u001b[0m \u001b[0;34m\u001b[0m\u001b[0m\n",
      "\u001b[0;31mNameError\u001b[0m: name 'C' is not defined"
     ]
    }
   ],
   "source": [
    "import matplotlib.pyplot as plt\n",
    "import numpy as np\n",
    "import pandas as pd\n",
    "import tensorflow as tf\n",
    "from sklearn.decomposition import PCA\n",
    "from sklearn.metrics import accuracy_score\n",
    "from sklearn.model_selection import train_test_split\n",
    "from sklearn.preprocessing import StandardScaler\n",
    "from sklearn.svm import SVC\n",
    "from sklearn.utils import resample\n",
    "from sklearn.utils import shuffle\n",
    "\n",
    "\n",
    "# fmnist - domyślnie jest 60k treningowych i 10k testowych\n",
    "(x_train_fmnist, y_train_fmnist), (x_test_fmnist, y_test_fmnist) = tf.keras.datasets.fashion_mnist.load_data()\n",
    "\n",
    "# polaczenie w 1 zbior\n",
    "x_fmnist=np.concatenate((x_train_fmnist,x_test_fmnist))\n",
    "y_fmnist=np.concatenate((y_train_fmnist,y_test_fmnist))\n",
    "\n",
    "\n",
    "# tng\n",
    "from sklearn.datasets import fetch_20newsgroups_vectorized\n",
    "newsgroups_train = fetch_20newsgroups_vectorized(subset='all')\n",
    "\n",
    "news_x = newsgroups_train.data\n",
    "news_y = newsgroups_train.target\n",
    "\n",
    "x, y = resample(news_x, news_y, n_samples=18000, replace=False, random_state=0)\n",
    "x_train, x_test, y_train, y_test =  train_test_split(x, y, test_size=0.4, random_state=0 )\n",
    "\n",
    "\n",
    "# MISC FUNKCJE DO POTENCJALNEGO WYKORZYSTANIA\n",
    "\n",
    "# x_train = x_train.reshape((x_train.shape[0],-1))\n",
    "# x_test = x_test.reshape((x_test.shape[0],-1))\n",
    "# x_train, y_train = resample(x_train, y_train, n_samples=60000, replace=False, random_state=0)\n",
    "# x_test, y_test = resample(x_test, y_test, n_samples=10000, replace=False, random_state=0)\n",
    "\n",
    "# #SVM\n",
    "# tng_df=SVM_analyze(x_train,y_train,x_test,y_test)\n",
    "# tng_df\n",
    "\n",
    "# y_train = y_train.reshape((y_train.shape[0],))\n",
    "\n",
    "# from sklearn.preprocessing import StandardScaler\n",
    "\n",
    "# scaler_mnist = StandardScaler().fit(x_train)\n",
    "# x_train = scaler_mnist.transform(x_train)\n",
    "# x_test = scaler_mnist.transform(x_test)"
   ]
  },
  {
   "cell_type": "code",
   "execution_count": 45,
   "metadata": {},
   "outputs": [],
   "source": []
  },
  {
   "cell_type": "code",
   "execution_count": 44,
   "metadata": {},
   "outputs": [
    {
     "data": {
      "text/plain": [
       "70000"
      ]
     },
     "execution_count": 44,
     "metadata": {},
     "output_type": "execute_result"
    }
   ],
   "source": []
  },
  {
   "cell_type": "code",
   "execution_count": 30,
   "metadata": {},
   "outputs": [
    {
     "name": "stdout",
     "output_type": "stream",
     "text": [
      "kernel=linear, C=100.000000, score=0.862917\n"
     ]
    },
    {
     "data": {
      "text/plain": [
       "0.8629166666666667"
      ]
     },
     "execution_count": 30,
     "metadata": {},
     "output_type": "execute_result"
    }
   ],
   "source": [
    "# pełen zbiór SVC\n",
    "clf = SVC(C=100, kernel='linear')\n",
    "clf.fit(x_train,y_train)\n",
    "y_pred = clf.predict(x_test)\n",
    "score = accuracy_score(y_test, y_pred)\n",
    "print('kernel=linear, C=%f, score=%f' %(100, score))\n",
    "score"
   ]
  },
  {
   "cell_type": "code",
   "execution_count": 40,
   "metadata": {},
   "outputs": [
    {
     "name": "stdout",
     "output_type": "stream",
     "text": [
      "0.1\n",
      "0.2\n",
      "0.3\n",
      "0.4\n",
      "0.5\n",
      "0.6\n",
      "0.7\n",
      "0.8\n",
      "0.9\n"
     ]
    },
    {
     "data": {
      "text/plain": [
       "range(1, 10)"
      ]
     },
     "execution_count": 40,
     "metadata": {},
     "output_type": "execute_result"
    }
   ],
   "source": [
    "# gwoli splitowania w 3a:\n",
    "split_sizes=range(1,10)\n",
    "\n",
    "for split_size in split_sizes:\n",
    "    split=split_size/10\n",
    "#     print(split)\n",
    "    train_test_split(x, y, test_size=split, random_state=0)\n",
    "    # dalsza logika tutaj\n"
   ]
  },
  {
   "cell_type": "markdown",
   "metadata": {},
   "source": [
    "sklearn.svm.SVC pozwala na dobieranie kernela oraz parametrów uczenia.\n",
    "\n",
    "Możliwe kernele to: ‘linear’, ‘poly’, ‘rbf’, ‘sigmoid’, ‘precomputed’ albo kernel stworzony przez siebie.\n",
    "\n",
    "Najważniejsze parametry uczenia, których wartości można dobierać, to:\n",
    "- C: parametr służący do regularyzacji, proporcjonalny do 1/lambda. Musi być liczbą dodatnią (default=1.0)\n",
    "- degree: stopień wielomianu (przy użyciu kernela 'poly')\n",
    "- gamma: współczynnik dla kerneli 'rbf', 'poly', 'sigmoid' ze zbioru {'scale', 'auto'} albo float (default='scale')\n",
    "- coef0: wartość \"r\" dla kerneli 'poly' i 'sigmoid', float (default=0.0)\n",
    "\n",
    "(szczegóły: https://scikit-learn.org/stable/modules/generated/sklearn.svm.SVC.html )"
   ]
  },
  {
   "cell_type": "code",
   "execution_count": 278,
   "metadata": {},
   "outputs": [],
   "source": [
    "def SVM_analyze(x_train,y_train,x_test,y_test):\n",
    "    from sklearn.svm import SVC\n",
    "    from sklearn.metrics import accuracy_score\n",
    "    \n",
    "    arrC=[0.01, 0.1, 1.0, 10.0, 100.0]\n",
    "\n",
    "    kernelArr=[]\n",
    "    supportArrC=[]\n",
    "    arrDegree=[]\n",
    "    arrScore=[]\n",
    "    arrCoef0=[]\n",
    "    \n",
    "    for C in arrC:\n",
    "        clf = SVC(C=C, kernel='linear')\n",
    "        clf.fit(x_train,y_train)\n",
    "        y_pred = clf.predict(x_test)\n",
    "        score = accuracy_score(y_test, y_pred)\n",
    "        kernelArr.append(\"linear\")\n",
    "        supportArrC.append(C)\n",
    "        arrDegree.append(\"\")\n",
    "        arrScore.append(score)\n",
    "        arrCoef0.append(\"\")        \n",
    "\n",
    "    for C in arrC:\n",
    "        for degree in [2,3,4]:\n",
    "            clf = SVC(C=C, kernel='poly', degree=degree)\n",
    "            clf.fit(x_train,y_train)\n",
    "            y_pred = clf.predict(x_test)\n",
    "            score = accuracy_score(y_test, y_pred)\n",
    "            kernelArr.append(\"poly\")\n",
    "            supportArrC.append(C)\n",
    "            arrDegree.append(degree)\n",
    "            arrScore.append(score)\n",
    "            arrCoef0.append(\"\")\n",
    "\n",
    "    for C in arrC:\n",
    "        for coef0 in [0.0,0.5,1.0]:\n",
    "            clf = SVC(C=C, kernel='sigmoid', coef0=coef0)\n",
    "            clf.fit(x_train,y_train)\n",
    "            y_pred = clf.predict(x_test)\n",
    "            score = accuracy_score(y_test, y_pred)\n",
    "            kernelArr.append(\"sigmoid\")\n",
    "            supportArrC.append(C)\n",
    "            arrDegree.append(\"\")\n",
    "            arrScore.append(score)\n",
    "            arrCoef0.append(coef0)\n",
    "\n",
    "    dataframe=pd.DataFrame({\"C\":supportArrC,\"degree\":arrDegree,\"coef0\":arrCoef0,\"score\":arrScore,\"kernel\":kernelArr})\n",
    "    \n",
    "    return dataframe.style.apply(lambda x: [\"background: red\" if v == x.max() else \"\" for v in x], axis = 0, subset=\"score\")"
   ]
  }
 ],
 "metadata": {
  "@webio": {
   "lastCommId": null,
   "lastKernelId": null
  },
  "kernelspec": {
   "display_name": "Python 3",
   "language": "python",
   "name": "python3"
  },
  "language_info": {
   "codemirror_mode": {
    "name": "ipython",
    "version": 3
   },
   "file_extension": ".py",
   "mimetype": "text/x-python",
   "name": "python",
   "nbconvert_exporter": "python",
   "pygments_lexer": "ipython3",
   "version": "3.7.9"
  }
 },
 "nbformat": 4,
 "nbformat_minor": 2
}
