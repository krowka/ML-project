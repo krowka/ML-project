{
 "cells": [
  {
   "cell_type": "markdown",
   "metadata": {},
   "source": [
    "# SVM w praktyce"
   ]
  },
  {
   "cell_type": "code",
   "execution_count": 1,
   "metadata": {},
   "outputs": [],
   "source": [
    "import matplotlib.pyplot as plt\n",
    "import numpy as np\n",
    "import pandas as pd\n",
    "import tensorflow as tf\n",
    "from sklearn.decomposition import PCA\n",
    "from sklearn.metrics import accuracy_score\n",
    "from sklearn.model_selection import train_test_split\n",
    "from sklearn.preprocessing import StandardScaler\n",
    "from sklearn.svm import SVC\n",
    "from sklearn.utils import resample\n",
    "from sklearn.utils import shuffle\n",
    "\n",
    "\n",
    "# fmnist - domyślnie jest 60k treningowych i 10k testowych\n",
    "(x_train_fmnist, y_train_fmnist), (x_test_fmnist, y_test_fmnist) = tf.keras.datasets.fashion_mnist.load_data()\n",
    "\n",
    "# polaczenie w 1 zbior\n",
    "x_fmnist=np.concatenate((x_train_fmnist,x_test_fmnist))\n",
    "y_fmnist=np.concatenate((y_train_fmnist,y_test_fmnist))\n",
    "\n",
    "\n",
    "# tng\n",
    "from sklearn.datasets import fetch_20newsgroups_vectorized\n",
    "newsgroups_train = fetch_20newsgroups_vectorized(subset='all')\n",
    "\n",
    "news_x = newsgroups_train.data\n",
    "news_y = newsgroups_train.target\n",
    "\n",
    "x, y = resample(news_x, news_y, n_samples=18000, replace=False, random_state=0)\n",
    "x_train, x_test, y_train, y_test =  train_test_split(x, y, test_size=0.4, random_state=0 )\n",
    "\n",
    "\n",
    "# MISC FUNKCJE DO POTENCJALNEGO WYKORZYSTANIA\n",
    "\n",
    "# x_train = x_train.reshape((x_train.shape[0],-1))\n",
    "# x_test = x_test.reshape((x_test.shape[0],-1))\n",
    "# x_train, y_train = resample(x_train, y_train, n_samples=60000, replace=False, random_state=0)\n",
    "# x_test, y_test = resample(x_test, y_test, n_samples=10000, replace=False, random_state=0)\n",
    "\n",
    "# #SVM\n",
    "# tng_df=SVM_analyze(x_train,y_train,x_test,y_test)\n",
    "# tng_df\n",
    "\n",
    "# y_train = y_train.reshape((y_train.shape[0],))\n",
    "\n",
    "# from sklearn.preprocessing import StandardScaler\n",
    "\n",
    "# scaler_mnist = StandardScaler().fit(x_train)\n",
    "# x_train = scaler_mnist.transform(x_train)\n",
    "# x_test = scaler_mnist.transform(x_test)"
   ]
  },
  {
   "cell_type": "code",
   "execution_count": null,
   "metadata": {},
   "outputs": [],
   "source": []
  },
  {
   "cell_type": "code",
   "execution_count": null,
   "metadata": {},
   "outputs": [],
   "source": []
  },
  {
   "cell_type": "code",
   "execution_count": 2,
   "metadata": {},
   "outputs": [
    {
     "name": "stdout",
     "output_type": "stream",
     "text": [
      "kernel=linear, C=100.000000, score=0.862917\n"
     ]
    },
    {
     "data": {
      "text/plain": [
       "0.8629166666666667"
      ]
     },
     "execution_count": 2,
     "metadata": {},
     "output_type": "execute_result"
    }
   ],
   "source": [
    "# pełen zbiór SVC\n",
    "clf = SVC(C=100, kernel='linear')\n",
    "clf.fit(x_train,y_train)\n",
    "y_pred = clf.predict(x_test)\n",
    "score = accuracy_score(y_test, y_pred)\n",
    "print('kernel=linear, C=%f, score=%f' %(100, score))\n",
    "score"
   ]
  },
  {
   "cell_type": "code",
   "execution_count": 3,
   "metadata": {},
   "outputs": [],
   "source": [
    "# gwoli splitowania w 3a:\n",
    "split_sizes=range(1,10)\n",
    "\n",
    "for split_size in split_sizes:\n",
    "    split=split_size/10\n",
    "#     print(split)\n",
    "    train_test_split(x, y, test_size=split, random_state=0)\n",
    "    # dalsza logika tutaj"
   ]
  },
  {
   "cell_type": "markdown",
   "metadata": {},
   "source": [
    "sklearn.svm.SVC pozwala na dobieranie kernela oraz parametrów uczenia.\n",
    "\n",
    "Możliwe kernele to: ‘linear’, ‘poly’, ‘rbf’, ‘sigmoid’, ‘precomputed’ albo kernel stworzony przez siebie.\n",
    "\n",
    "Najważniejsze parametry uczenia, których wartości można dobierać, to:\n",
    "- C: parametr służący do regularyzacji, proporcjonalny do 1/lambda. Musi być liczbą dodatnią (default=1.0)\n",
    "- degree: stopień wielomianu (przy użyciu kernela 'poly')\n",
    "- gamma: współczynnik dla kerneli 'rbf', 'poly', 'sigmoid' ze zbioru {'scale', 'auto'} albo float (default='scale')\n",
    "- coef0: wartość \"r\" dla kerneli 'poly' i 'sigmoid', float (default=0.0)\n",
    "\n",
    "(szczegóły: https://scikit-learn.org/stable/modules/generated/sklearn.svm.SVC.html )"
   ]
  },
  {
   "cell_type": "code",
   "execution_count": null,
   "metadata": {},
   "outputs": [],
   "source": [
    "def SVM_analyze(x_train,y_train,x_test,y_test):\n",
    "    from sklearn.svm import SVC\n",
    "    from sklearn.metrics import accuracy_score\n",
    "    \n",
    "    arrC=[0.01, 0.1, 1.0, 10.0, 100.0]\n",
    "\n",
    "    kernelArr=[]\n",
    "    supportArrC=[]\n",
    "    arrDegree=[]\n",
    "    arrScore=[]\n",
    "    arrCoef0=[]\n",
    "    \n",
    "    for C in arrC:\n",
    "        clf = SVC(C=C, kernel='linear')\n",
    "        clf.fit(x_train,y_train)\n",
    "        y_pred = clf.predict(x_test)\n",
    "        score = accuracy_score(y_test, y_pred)\n",
    "        kernelArr.append(\"linear\")\n",
    "        supportArrC.append(C)\n",
    "        arrDegree.append(\"\")\n",
    "        arrScore.append(score)\n",
    "        arrCoef0.append(\"\")        \n",
    "\n",
    "    for C in arrC:\n",
    "        for degree in [2,3,4]:\n",
    "            clf = SVC(C=C, kernel='poly', degree=degree)\n",
    "            clf.fit(x_train,y_train)\n",
    "            y_pred = clf.predict(x_test)\n",
    "            score = accuracy_score(y_test, y_pred)\n",
    "            kernelArr.append(\"poly\")\n",
    "            supportArrC.append(C)\n",
    "            arrDegree.append(degree)\n",
    "            arrScore.append(score)\n",
    "            arrCoef0.append(\"\")\n",
    "\n",
    "    for C in arrC:\n",
    "        for coef0 in [0.0,0.5,1.0]:\n",
    "            clf = SVC(C=C, kernel='sigmoid', coef0=coef0)\n",
    "            clf.fit(x_train,y_train)\n",
    "            y_pred = clf.predict(x_test)\n",
    "            score = accuracy_score(y_test, y_pred)\n",
    "            kernelArr.append(\"sigmoid\")\n",
    "            supportArrC.append(C)\n",
    "            arrDegree.append(\"\")\n",
    "            arrScore.append(score)\n",
    "            arrCoef0.append(coef0)\n",
    "\n",
    "    dataframe=pd.DataFrame({\"C\":supportArrC,\"degree\":arrDegree,\"coef0\":arrCoef0,\"score\":arrScore,\"kernel\":kernelArr})\n",
    "    \n",
    "    return dataframe.style.apply(lambda x: [\"background: red\" if v == x.max() else \"\" for v in x], axis = 0, subset=\"score\")"
   ]
  },
  {
   "cell_type": "code",
   "execution_count": null,
   "metadata": {},
   "outputs": [],
   "source": []
  },
  {
   "cell_type": "code",
   "execution_count": 4,
   "metadata": {},
   "outputs": [],
   "source": [
    "import random\n",
    "\n",
    "\n",
    "def select_random_features(X, feats_num):\n",
    "    arrX = X.toarray()\n",
    "    X_random = []\n",
    "    random_feats = random.choices(list(range(arrX.shape[1])), k=feats_num)\n",
    "    X_random = arrX[:, random_feats]\n",
    "#     for x in arrX:\n",
    "#         row = [x[i] for i in random_feats]\n",
    "#         X_random.append(row)\n",
    "    return np.asarray(X_random)"
   ]
  },
  {
   "cell_type": "code",
   "execution_count": 6,
   "metadata": {},
   "outputs": [
    {
     "name": "stdout",
     "output_type": "stream",
     "text": [
      "Random accuracy 0.235\n",
      "Kbest accuracy 0.385\n"
     ]
    }
   ],
   "source": [
    "# wszystkich cech jest 130k\n",
    "x, y = resample(news_x, news_y, n_samples=500, replace=False, random_state=0)\n",
    "\n",
    "## RANDOM\n",
    "X_r = select_random_features(x, 13000)\n",
    "x_train, x_test, y_train, y_test = train_test_split(X_r, y, test_size=0.4, random_state=0)\n",
    "clf = SVC(C=100, kernel='linear')\n",
    "clf.fit(x_train,y_train)\n",
    "y_pred = clf.predict(x_test)\n",
    "score = accuracy_score(y_test, y_pred)\n",
    "print('Random accuracy', score)\n",
    "\n",
    "## KBEST\n",
    "from sklearn.feature_selection import SelectKBest, chi2\n",
    "clf = SVC(C=100, kernel='linear')\n",
    "X_kbest = SelectKBest(chi2, k=1300).fit_transform(x, y)\n",
    "x_train, x_test, y_train, y_test = train_test_split(X_kbest, y, test_size=0.4, random_state=0)\n",
    "clf.fit(x_train,y_train)\n",
    "y_pred = clf.predict(x_test)\n",
    "score = accuracy_score(y_test, y_pred)\n",
    "print('Kbest accuracy', score)\n",
    "    \n",
    "## RFE    \n",
    "# from sklearn.feature_selection import RFE\n",
    "# clf = SVC(C=100, kernel='linear')\n",
    "# rfe_selector = RFE(estimator=clf, n_features_to_select=10, step=100)\n",
    "# X_rfe = rfe_selector.fit_transform(x, y)\n",
    "# x_train, x_test, y_train, y_test = train_test_split(X_rfe, y, test_size=0.4, random_state=0)\n",
    "# clf.fit(x_train,y_train)\n",
    "# y_pred = clf.predict(x_test)\n",
    "# score = accuracy_score(y_test, y_pred)\n",
    "# print('RFE accuracy', score)\n",
    "\n",
    "\n",
    "## SFS\n",
    "# from mlxtend.feature_selection import SequentialFeatureSelector as SFS\n",
    "# clf = SVC(C=100, kernel='linear')\n",
    "# sfsForward = SFS(clf, k_features=10, forward=True, n_jobs=-1)\n",
    "# X_sfs = sfsForward.fit_transform(x, y)\n",
    "# x_train, x_test, y_train, y_test = train_test_split(X_sfs, y, test_size=0.4, random_state=0)\n",
    "# clf.fit(x_train,y_train)\n",
    "# y_pred = clf.predict(x_test)\n",
    "# score = accuracy_score(y_test, y_pred)\n",
    "# print('SFS accuracy', score)\n",
    "    "
   ]
  },
  {
   "cell_type": "code",
   "execution_count": null,
   "metadata": {},
   "outputs": [
    {
     "name": "stdout",
     "output_type": "stream",
     "text": [
      "samples=100, feats=100, score=0.025000\n",
      "samples=100, feats=1300, score=0.050000\n",
      "samples=100, feats=6500, score=0.025000\n",
      "samples=100, feats=13000, score=0.075000\n",
      "samples=300, feats=100, score=0.033333\n",
      "samples=300, feats=1300, score=0.033333\n",
      "samples=300, feats=6500, score=0.141667\n",
      "samples=300, feats=13000, score=0.191667\n",
      "samples=500, feats=100, score=0.030000\n",
      "samples=500, feats=1300, score=0.095000\n",
      "samples=500, feats=6500, score=0.130000\n",
      "samples=500, feats=13000, score=0.190000\n",
      "samples=1000, feats=100, score=0.055000\n",
      "samples=1000, feats=1300, score=0.080000\n",
      "samples=1000, feats=6500, score=0.147500\n",
      "samples=1000, feats=13000, score=0.237500\n",
      "samples=2000, feats=100, score=0.057500\n",
      "samples=2000, feats=1300, score=0.115000\n",
      "samples=2000, feats=6500, score=0.273750\n"
     ]
    }
   ],
   "source": [
    "num_samples = [100, 300, 500, 1000, 2000]\n",
    "num_feats = [100, 1300, 6500, 13000]\n",
    "\n",
    "for i in num_samples:\n",
    "    for j in num_feats:\n",
    "        x, y = resample(news_x, news_y, n_samples=i, replace=False, random_state=0)\n",
    "        X_r = select_random_features(x, j)\n",
    "        x_train, x_test, y_train, y_test =  train_test_split(X_r, y, test_size=0.4, random_state=0)\n",
    "        clf = SVC(C=100, kernel='linear')\n",
    "        clf.fit(x_train,y_train)\n",
    "        y_pred = clf.predict(x_test)\n",
    "        score = accuracy_score(y_test, y_pred)\n",
    "        print('samples=%d, feats=%d, score=%f' %(i, j, score))\n",
    "        "
   ]
  },
  {
   "cell_type": "code",
   "execution_count": null,
   "metadata": {},
   "outputs": [],
   "source": []
  }
 ],
 "metadata": {
  "@webio": {
   "lastCommId": null,
   "lastKernelId": null
  },
  "kernelspec": {
   "display_name": "Python 3",
   "language": "python",
   "name": "python3"
  },
  "language_info": {
   "codemirror_mode": {
    "name": "ipython",
    "version": 3
   },
   "file_extension": ".py",
   "mimetype": "text/x-python",
   "name": "python",
   "nbconvert_exporter": "python",
   "pygments_lexer": "ipython3",
   "version": "3.8.2"
  }
 },
 "nbformat": 4,
 "nbformat_minor": 2
}
